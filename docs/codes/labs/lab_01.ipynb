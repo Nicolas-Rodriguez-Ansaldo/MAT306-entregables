{
  "cells": [
    {
      "cell_type": "markdown",
      "id": "e2696553",
      "metadata": {
        "id": "e2696553"
      },
      "source": [
        "<a href=\"https://colab.research.google.com/github/fralfaro/MAT306/blob/main/docs/labs/lab_01.ipynb\" target=\"_parent\"><img src=\"https://colab.research.google.com/assets/colab-badge.svg\" alt=\"Open In Colab\"/></a>\n",
        "\n",
        "\n",
        "# MAT306 - Laboratorio N°01\n",
        "\n",
        "\n",
        "**Objetivos del Laboratorio**\n",
        "\n",
        "* Implementar funciones en Python para resolver problemas matemáticos clásicos.\n",
        "* Aplicar estructuras básicas como ciclos y condicionales en contextos numéricos.\n",
        "* Comprender y programar conceptos como series, factoriales, divisores, primos y secuencias.\n",
        "* Desarrollar pensamiento algorítmico y habilidades de resolución estructurada de problemas.\n"
      ]
    },
    {
      "cell_type": "markdown",
      "id": "a869ace0",
      "metadata": {
        "id": "a869ace0"
      },
      "source": [
        "## Problema 01 — Aproximando $\\pi$ con una serie infinita\n",
        "\n",
        "En los siglos XVII y XVIII, los matemáticos **James Gregory** y **Gottfried Leibniz** descubrieron una serie infinita que permite aproximar el valor de $\\pi$. Esta serie, conocida como la *serie de Gregory-Leibniz*, se expresa como:\n",
        "\n",
        "$$\n",
        "\\pi = 4 \\sum_{k=1}^{\\infty} \\frac{(-1)^{k+1}}{2k - 1} = 4\\left(1 - \\frac{1}{3} + \\frac{1}{5} - \\frac{1}{7} + \\cdots\\right)\n",
        "$$\n",
        "\n",
        "Esta fórmula converge lentamente, pero es útil para entender cómo se puede aproximar un número irracional como $\\pi$ mediante una suma finita.\n",
        "\n",
        "**Tu tarea**\n",
        "\n",
        "Implementa una **función llamada `calcular_pi(n)`** que reciba como argumento un número entero $n$ e **importe los primeros $n$ términos de la serie** para entregar una aproximación del valor de $\\pi$.\n",
        "\n",
        "\n",
        "\n",
        "\n",
        "\n",
        "**Ejemplos de uso**\n",
        "\n",
        "```python\n",
        "calcular_pi(3)     # Resultado esperado: 3.466666...\n",
        "calcular_pi(1000)  # Resultado esperado: ~3.140592...\n",
        "```\n",
        "\n"
      ]
    },
    {
      "cell_type": "code",
      "execution_count": 5,
      "id": "dd54e855",
      "metadata": {
        "id": "dd54e855"
      },
      "outputs": [],
      "source": [
        "def calcular_pi(n):\n",
        "  ##Inputs\n",
        "  ## n: un numero natural no nulo\n",
        "  ##Outpust\n",
        "  ## importa los primeros n terminos de la serie\n",
        "  pi=0\n",
        "  for k in range(1,n+1):\n",
        "    pi+=((-1)**(k+1))/(2*k-1)\n",
        "  return 4*pi"
      ]
    },
    {
      "cell_type": "code",
      "source": [
        "calcular_pi(3)"
      ],
      "metadata": {
        "colab": {
          "base_uri": "https://localhost:8080/"
        },
        "id": "Vs8uMaSavwx-",
        "outputId": "f40d8806-7c06-48e0-a5a4-6e293b818426"
      },
      "id": "Vs8uMaSavwx-",
      "execution_count": 7,
      "outputs": [
        {
          "output_type": "execute_result",
          "data": {
            "text/plain": [
              "3.466666666666667"
            ]
          },
          "metadata": {},
          "execution_count": 7
        }
      ]
    },
    {
      "cell_type": "code",
      "source": [
        "calcular_pi(1000)"
      ],
      "metadata": {
        "colab": {
          "base_uri": "https://localhost:8080/"
        },
        "id": "QTzKJ-Vgvz46",
        "outputId": "edcd2e55-4acd-4196-ff4f-fdfb970a680e"
      },
      "id": "QTzKJ-Vgvz46",
      "execution_count": 8,
      "outputs": [
        {
          "output_type": "execute_result",
          "data": {
            "text/plain": [
              "3.140592653839794"
            ]
          },
          "metadata": {},
          "execution_count": 8
        }
      ]
    },
    {
      "cell_type": "markdown",
      "source": [
        "De verdad que converge lentisimo"
      ],
      "metadata": {
        "id": "LZczmRj4v3fv"
      },
      "id": "LZczmRj4v3fv"
    },
    {
      "cell_type": "markdown",
      "id": "c26be634",
      "metadata": {
        "id": "c26be634"
      },
      "source": [
        "\n",
        "## Problema 02 — Aproximando $e$ con la serie de Euler\n",
        "\n",
        "El número **$e$** es una constante matemática fundamental, al igual que $\\pi$. Se encuentra en el corazón del cálculo, el crecimiento exponencial y muchas aplicaciones científicas. Uno de sus grandes impulsores fue **Leonhard Euler**, quien en 1748 publicó su obra *Introductio in analysin infinitorum*, donde describió formalmente la siguiente serie infinita para aproximar su valor:\n",
        "\n",
        "$$\n",
        "e = \\sum_{k=0}^{\\infty} \\frac{1}{k!} = 1 + \\frac{1}{1!} + \\frac{1}{2!} + \\frac{1}{3!} + \\cdots\n",
        "$$\n",
        "\n",
        "Esta fórmula permite calcular $e$ sumando una cantidad finita de términos.\n",
        "\n",
        "\n",
        "\n",
        "**Tu tarea**\n",
        "\n",
        "1. **Parte A**: Define una función llamada `factorial(n)` que reciba un número natural $n$ y retorne el valor de su factorial $n! = 1 \\cdot 2 \\cdot \\ldots \\cdot n$.\n",
        "\n",
        "2. **Parte B**: Usando esa función, crea otra función llamada `calcular_e(n)` que reciba un número entero $n$ y devuelva una aproximación del número $e$ sumando los primeros $n$ términos de la serie.\n",
        "\n",
        "\n",
        "\n",
        "**Ejemplos de uso**\n",
        "\n",
        "```python\n",
        "factorial(3)     # Resultado esperado: 6\n",
        "factorial(5)     # Resultado esperado: 120\n",
        "\n",
        "calcular_e(3)     # Resultado esperado: 2.666...\n",
        "calcular_e(1000)  # Resultado esperado: ~2.718281828...\n",
        "```\n",
        "\n"
      ]
    },
    {
      "cell_type": "markdown",
      "source": [
        "### **Parte A**"
      ],
      "metadata": {
        "id": "jhhUm7I6v-Qu"
      },
      "id": "jhhUm7I6v-Qu"
    },
    {
      "cell_type": "code",
      "execution_count": 16,
      "id": "706d4c0a",
      "metadata": {
        "colab": {
          "base_uri": "https://localhost:8080/",
          "height": 34
        },
        "id": "706d4c0a",
        "outputId": "95c953f9-580d-42d9-ea67-1d24959cf918"
      },
      "outputs": [
        {
          "output_type": "display_data",
          "data": {
            "text/plain": [
              "24"
            ]
          },
          "metadata": {}
        }
      ],
      "source": [
        "def factorial(n):\n",
        "  ##Inputs:\n",
        "  ## n: un numero natural\n",
        "  ##Outputs:\n",
        "  ## retorna el factorial de n\n",
        "  fact = 1\n",
        "  for k in range(1,n+1):\n",
        "    fact*=k\n",
        "  return fact"
      ]
    },
    {
      "cell_type": "code",
      "source": [
        "factorial(3)"
      ],
      "metadata": {
        "colab": {
          "base_uri": "https://localhost:8080/"
        },
        "id": "p6UCXy42wrXe",
        "outputId": "4761a0e8-8be7-4529-8fe0-a6c4443cff8c"
      },
      "id": "p6UCXy42wrXe",
      "execution_count": 19,
      "outputs": [
        {
          "output_type": "execute_result",
          "data": {
            "text/plain": [
              "6"
            ]
          },
          "metadata": {},
          "execution_count": 19
        }
      ]
    },
    {
      "cell_type": "code",
      "source": [
        "factorial(5)"
      ],
      "metadata": {
        "colab": {
          "base_uri": "https://localhost:8080/"
        },
        "id": "Grba-qOpw9o7",
        "outputId": "ee73330a-54c6-434f-f800-86fae1c913b2"
      },
      "id": "Grba-qOpw9o7",
      "execution_count": 18,
      "outputs": [
        {
          "output_type": "execute_result",
          "data": {
            "text/plain": [
              "120"
            ]
          },
          "metadata": {},
          "execution_count": 18
        }
      ]
    },
    {
      "cell_type": "markdown",
      "source": [
        "### **Parte B**"
      ],
      "metadata": {
        "id": "aZS_A16EwJjJ"
      },
      "id": "aZS_A16EwJjJ"
    },
    {
      "cell_type": "code",
      "source": [
        "def calcular_e(n):\n",
        "  ##Inputs:\n",
        "  ## n: un numero natural\n",
        "  ##Outputs:\n",
        "  ## retorna una aproximacion del numero e sumando los primeros n terminos de la serie\n",
        "  e = 0\n",
        "  for k in range(0,n+1):\n",
        "    e+=1/factorial(k)\n",
        "  return e"
      ],
      "metadata": {
        "id": "38-vlWLYxChg"
      },
      "id": "38-vlWLYxChg",
      "execution_count": 25,
      "outputs": []
    },
    {
      "cell_type": "code",
      "source": [
        "calcular_e(3)"
      ],
      "metadata": {
        "colab": {
          "base_uri": "https://localhost:8080/"
        },
        "id": "_5eNdg18xaFn",
        "outputId": "2241e52b-62fa-4224-cbb2-1e725a800ac6"
      },
      "id": "_5eNdg18xaFn",
      "execution_count": 26,
      "outputs": [
        {
          "output_type": "execute_result",
          "data": {
            "text/plain": [
              "2.6666666666666665"
            ]
          },
          "metadata": {},
          "execution_count": 26
        }
      ]
    },
    {
      "cell_type": "code",
      "source": [
        "calcular_e(1000)"
      ],
      "metadata": {
        "colab": {
          "base_uri": "https://localhost:8080/"
        },
        "id": "NENzBYL2xgBu",
        "outputId": "6c909e7e-8992-46a5-83ba-800a23ee9c53"
      },
      "id": "NENzBYL2xgBu",
      "execution_count": 27,
      "outputs": [
        {
          "output_type": "execute_result",
          "data": {
            "text/plain": [
              "2.7182818284590455"
            ]
          },
          "metadata": {},
          "execution_count": 27
        }
      ]
    },
    {
      "cell_type": "markdown",
      "id": "9707be93",
      "metadata": {
        "id": "9707be93"
      },
      "source": [
        "## Problema 03 — Números amigos y suma de divisores propios\n",
        "\n",
        "Dado un número natural $n$, se define $\\sigma(n)$ como la **suma de sus divisores propios**, es decir, aquellos números positivos menores que $n$ que lo dividen exactamente.\n",
        "\n",
        "Dos números naturales $n_1$ y $n_2$ se consideran **números amigos** si cumplen la siguiente condición:\n",
        "\n",
        "$$\n",
        "\\sigma(n_1) = n_2 \\quad \\text{y} \\quad \\sigma(n_2) = n_1\n",
        "$$\n",
        "\n",
        "Un ejemplo clásico de números amigos es el par $220$ y $284$:\n",
        "\n",
        "* Los divisores propios de $220$ son: $1, 2, 4, 5, 10, 11, 20, 22, 44, 55, 110$, y su suma es $284$.\n",
        "* Los divisores propios de $284$ son: $1, 2, 4, 71, 142$, y su suma es $220$.\n",
        "\n",
        "**Tu tarea**\n",
        "\n",
        "1. **Parte A**: Define una función llamada `divisores_propios(n)` que reciba un número natural $n$ y retorne una **lista** con todos sus divisores propios.\n",
        "\n",
        "2. **Parte B**: Usando esa función, implementa una función llamada `amigos(n1, n2)` que retorne `True` si los números son amigos y `False` en caso contrario.\n",
        "\n",
        "**Ejemplos de uso**\n",
        "\n",
        "```python\n",
        "divisores_propios(220)  # Resultado esperado: [1, 2, 4, 5, 10, 11, 20, 22, 44, 55, 110]\n",
        "divisores_propios(284)  # Resultado esperado: [1, 2, 4, 71, 142]\n",
        "\n",
        "amigos(220, 284)        # Resultado esperado: True\n",
        "amigos(6, 5)            # Resultado esperado: False\n",
        "```\n"
      ]
    },
    {
      "cell_type": "markdown",
      "source": [
        "### **Parte A**"
      ],
      "metadata": {
        "id": "8DCmq1Zgxrrg"
      },
      "id": "8DCmq1Zgxrrg"
    },
    {
      "cell_type": "code",
      "execution_count": 28,
      "id": "e695ea21",
      "metadata": {
        "id": "e695ea21"
      },
      "outputs": [],
      "source": [
        "def divisores_propios(n):\n",
        "  ##Inputs:\n",
        "  ## n: un numero natural\n",
        "  ##Outputs:\n",
        "  ## retorna una lista con todo los divisores propios de n\n",
        "  lista=[]\n",
        "  for k in range(1,n):\n",
        "    if n%k==0:\n",
        "      lista.append(k)\n",
        "  return lista"
      ]
    },
    {
      "cell_type": "code",
      "source": [
        "divisores_propios(220)"
      ],
      "metadata": {
        "colab": {
          "base_uri": "https://localhost:8080/"
        },
        "id": "P3hu4yEUyDfz",
        "outputId": "07e42aac-8d6c-47fd-cea1-60b0fd33a676"
      },
      "id": "P3hu4yEUyDfz",
      "execution_count": 29,
      "outputs": [
        {
          "output_type": "execute_result",
          "data": {
            "text/plain": [
              "[1, 2, 4, 5, 10, 11, 20, 22, 44, 55, 110]"
            ]
          },
          "metadata": {},
          "execution_count": 29
        }
      ]
    },
    {
      "cell_type": "code",
      "source": [
        "divisores_propios(284)"
      ],
      "metadata": {
        "colab": {
          "base_uri": "https://localhost:8080/"
        },
        "id": "t6P3PD8nyD79",
        "outputId": "8a2e87a6-2c41-452c-de70-86339194f18b"
      },
      "id": "t6P3PD8nyD79",
      "execution_count": 30,
      "outputs": [
        {
          "output_type": "execute_result",
          "data": {
            "text/plain": [
              "[1, 2, 4, 71, 142]"
            ]
          },
          "metadata": {},
          "execution_count": 30
        }
      ]
    },
    {
      "cell_type": "markdown",
      "source": [
        "### **Parte B**"
      ],
      "metadata": {
        "id": "wZGaRJ7ZxvEs"
      },
      "id": "wZGaRJ7ZxvEs"
    },
    {
      "cell_type": "code",
      "source": [
        "def amigos(n1, n2):\n",
        "  ##Inputs:\n",
        "  ## n1: un numero natural\n",
        "  ## n2: un numero natural\n",
        "  ##Outputs:\n",
        "  ## retorna True si los n1 y n2 son amigos y False en caso contrario\n",
        "  if sum(divisores_propios(n1))==n2 and sum(divisores_propios(n2))==n1:\n",
        "    return True\n",
        "  else:\n",
        "    return False"
      ],
      "metadata": {
        "id": "hBR1-d9gxxz3"
      },
      "id": "hBR1-d9gxxz3",
      "execution_count": 33,
      "outputs": []
    },
    {
      "cell_type": "code",
      "source": [
        "amigos(220, 284)"
      ],
      "metadata": {
        "colab": {
          "base_uri": "https://localhost:8080/"
        },
        "id": "ZJ_LAmWoyggg",
        "outputId": "ff4274fc-6c8e-4d1c-aa4e-df5b15cad683"
      },
      "id": "ZJ_LAmWoyggg",
      "execution_count": 34,
      "outputs": [
        {
          "output_type": "execute_result",
          "data": {
            "text/plain": [
              "True"
            ]
          },
          "metadata": {},
          "execution_count": 34
        }
      ]
    },
    {
      "cell_type": "code",
      "source": [
        "amigos(6, 5)"
      ],
      "metadata": {
        "colab": {
          "base_uri": "https://localhost:8080/"
        },
        "id": "yZ3jZ-uIyh4b",
        "outputId": "3734a924-97a5-4859-d93f-43c0a4c20474"
      },
      "id": "yZ3jZ-uIyh4b",
      "execution_count": 35,
      "outputs": [
        {
          "output_type": "execute_result",
          "data": {
            "text/plain": [
              "False"
            ]
          },
          "metadata": {},
          "execution_count": 35
        }
      ]
    },
    {
      "cell_type": "markdown",
      "id": "cf93a039",
      "metadata": {
        "id": "cf93a039"
      },
      "source": [
        "## Problema 04 — La conjetura de Collatz\n",
        "\n",
        "La [conjetura de Collatz](https://en.wikipedia.org/wiki/Collatz_conjecture), también conocida como **conjetura $3n + 1$** o conjetura de Ulam, fue formulada por el matemático **Lothar Collatz** en 1937. A pesar de su sencillez, aún no ha sido demostrada ni refutada para todos los números naturales.\n",
        "\n",
        "La conjetura propone la siguiente regla, aplicable a cualquier número entero positivo:\n",
        "\n",
        "* Si el número es **par**, se divide por 2.\n",
        "* Si el número es **impar**, se multiplica por 3 y se le suma 1.\n",
        "\n",
        "Se repite esta operación con cada nuevo número obtenido. La conjetura afirma que, sin importar el número con el que se comience, **eventualmente se alcanzará el número 1**.\n",
        "\n",
        "**Tu tarea**\n",
        "\n",
        "Implementa una función llamada `collatz(n)` que reciba como argumento un número natural positivo $n$ y retorne una **lista con la secuencia de valores** generados por la conjetura, hasta llegar a 1.\n",
        "\n",
        "**Ejemplo de uso**\n",
        "\n",
        "```python\n",
        "collatz(9)  \n",
        "# Resultado esperado:\n",
        "# [9, 28, 14, 7, 22, 11, 34, 17, 52, 26, 13, 40, 20, 10, 5, 16, 8, 4, 2, 1]\n",
        "```\n",
        "\n"
      ]
    },
    {
      "cell_type": "code",
      "execution_count": 37,
      "id": "10501a00",
      "metadata": {
        "id": "10501a00"
      },
      "outputs": [],
      "source": [
        "def collatz(n):\n",
        "  ##Inputs:\n",
        "  ## n: un numero natural\n",
        "  ##Outputs:\n",
        "  ## retorna una lista con la secuencia de valores generados por el algoritmo de la conjetura\n",
        "  lista=[n]\n",
        "  while n!=1:\n",
        "    if n%2==0:\n",
        "      n=int(n/2)\n",
        "    else:\n",
        "      n=3*n+1\n",
        "    lista.append(n)\n",
        "  return lista"
      ]
    },
    {
      "cell_type": "code",
      "source": [
        "collatz(9)"
      ],
      "metadata": {
        "colab": {
          "base_uri": "https://localhost:8080/"
        },
        "id": "sU6M9lvSzaba",
        "outputId": "1fc4fb87-70a7-4652-e715-d71fe91a7c4f"
      },
      "id": "sU6M9lvSzaba",
      "execution_count": 38,
      "outputs": [
        {
          "output_type": "execute_result",
          "data": {
            "text/plain": [
              "[9, 28, 14, 7, 22, 11, 34, 17, 52, 26, 13, 40, 20, 10, 5, 16, 8, 4, 2, 1]"
            ]
          },
          "metadata": {},
          "execution_count": 38
        }
      ]
    },
    {
      "cell_type": "markdown",
      "id": "d15af4eb",
      "metadata": {
        "id": "d15af4eb"
      },
      "source": [
        "## Problema 05 — La conjetura de Goldbach\n",
        "\n",
        "La [conjetura de Goldbach](https://en.wikipedia.org/wiki/Goldbach%27s_conjecture) es uno de los problemas abiertos más antiguos y famosos de la teoría de números. Fue formulada por el matemático prusiano **Christian Goldbach** en una carta a Euler en 1742, y plantea lo siguiente:\n",
        "\n",
        "> **Todo número par mayor que 2 puede escribirse como la suma de dos números primos.**\n",
        "\n",
        "A pesar de que esta conjetura ha sido verificada para una gran cantidad de números, aún no existe una demostración formal que la confirme para todos los casos posibles.\n",
        "\n",
        "**Tu tarea**\n",
        "\n",
        "Implementa una función llamada `goldbach(n)` que reciba un número natural par mayor que 2 y retorne un par de números primos $n_1$ y $n_2$ tales que $n_1 + n_2 = n$.\n",
        "\n",
        "Para lograrlo, se recomienda dividir el problema en tres partes:\n",
        "\n",
        "1. **Parte A**: Define una función `es_primo(n)` que reciba un número natural $n$ y retorne `True` si es primo, y `False` en caso contrario.\n",
        "\n",
        "2. **Parte B**: Define una función `lista_de_primos(n)` que genere una lista con todos los números primos entre 2 y $n$ (inclusive si corresponde).\n",
        "\n",
        "3. **Parte C**: Utiliza la función anterior dentro de `goldbach(n)` para encontrar dos primos cuya suma sea igual a $n$. Puedes retornar el primer par que cumpla esta condición.\n",
        "\n",
        "**Ejemplos de uso**\n",
        "\n",
        "```python\n",
        "es_primo(3)         # Resultado esperado: True\n",
        "es_primo(4)         # Resultado esperado: False\n",
        "\n",
        "lista_de_primos(4)  # Resultado esperado: [2, 3]\n",
        "lista_de_primos(6)  # Resultado esperado: [2, 3, 5]\n",
        "lista_de_primos(8)  # Resultado esperado: [2, 3, 5, 7]\n",
        "\n",
        "goldbach(4)         # Resultado esperado: (2, 2)\n",
        "goldbach(6)         # Resultado esperado: (3, 3)\n",
        "goldbach(8)         # Resultado esperado: (3, 5)\n",
        "```\n",
        "\n",
        "\n"
      ]
    },
    {
      "cell_type": "markdown",
      "source": [
        "### **Parte A**"
      ],
      "metadata": {
        "id": "LuB3ePtZzo03"
      },
      "id": "LuB3ePtZzo03"
    },
    {
      "cell_type": "code",
      "source": [
        "def es_primo(n):\n",
        "  ##Inputs:\n",
        "  ## n: un numero natural\n",
        "  ##Outputs:\n",
        "  ## retorna True si n es primo y False en caso contrario\n",
        "  for k in range(2,n):\n",
        "    if n%k==0:\n",
        "      return False\n",
        "  return True"
      ],
      "metadata": {
        "id": "7UHFgopvz4_g"
      },
      "id": "7UHFgopvz4_g",
      "execution_count": 40,
      "outputs": []
    },
    {
      "cell_type": "code",
      "source": [
        "es_primo(3)"
      ],
      "metadata": {
        "colab": {
          "base_uri": "https://localhost:8080/"
        },
        "id": "Wb2mQyNh0FEB",
        "outputId": "a92dc020-b619-4ff5-d478-912fa4947ed6"
      },
      "id": "Wb2mQyNh0FEB",
      "execution_count": 41,
      "outputs": [
        {
          "output_type": "execute_result",
          "data": {
            "text/plain": [
              "True"
            ]
          },
          "metadata": {},
          "execution_count": 41
        }
      ]
    },
    {
      "cell_type": "code",
      "source": [
        "es_primo(4)"
      ],
      "metadata": {
        "colab": {
          "base_uri": "https://localhost:8080/"
        },
        "id": "Ife4-SHo0HOK",
        "outputId": "f8915e83-3016-4aaf-dedd-6a9eff63448a"
      },
      "id": "Ife4-SHo0HOK",
      "execution_count": 42,
      "outputs": [
        {
          "output_type": "execute_result",
          "data": {
            "text/plain": [
              "False"
            ]
          },
          "metadata": {},
          "execution_count": 42
        }
      ]
    },
    {
      "cell_type": "markdown",
      "source": [
        "### **Parte B**"
      ],
      "metadata": {
        "id": "1T7pIByEzrlG"
      },
      "id": "1T7pIByEzrlG"
    },
    {
      "cell_type": "code",
      "source": [
        "def lista_de_primos(n):\n",
        "  ##Inputs:\n",
        "  ## n: un numero natural\n",
        "  ##Outputs:\n",
        "  ## retorna una lista con todos los numeros primos entre 2 y n incluyendo 2 y n (si es posible)\n",
        "  lista=[]\n",
        "  for k in range(2,n+1):\n",
        "    if es_primo(k):\n",
        "      lista.append(k)\n",
        "  return lista"
      ],
      "metadata": {
        "id": "lKJrh74fzxQy"
      },
      "id": "lKJrh74fzxQy",
      "execution_count": 45,
      "outputs": []
    },
    {
      "cell_type": "code",
      "source": [
        "lista_de_primos(4)"
      ],
      "metadata": {
        "colab": {
          "base_uri": "https://localhost:8080/"
        },
        "id": "ksJOhJ330ll8",
        "outputId": "b02da098-5f86-40a7-8eac-1f081e7b7b34"
      },
      "id": "ksJOhJ330ll8",
      "execution_count": 46,
      "outputs": [
        {
          "output_type": "execute_result",
          "data": {
            "text/plain": [
              "[2, 3]"
            ]
          },
          "metadata": {},
          "execution_count": 46
        }
      ]
    },
    {
      "cell_type": "code",
      "source": [
        "lista_de_primos(6)"
      ],
      "metadata": {
        "colab": {
          "base_uri": "https://localhost:8080/"
        },
        "id": "Hf2Un8BD0laU",
        "outputId": "20ab1f7f-eb20-4ca4-bcd2-29ff1ba4db7b"
      },
      "id": "Hf2Un8BD0laU",
      "execution_count": 47,
      "outputs": [
        {
          "output_type": "execute_result",
          "data": {
            "text/plain": [
              "[2, 3, 5]"
            ]
          },
          "metadata": {},
          "execution_count": 47
        }
      ]
    },
    {
      "cell_type": "code",
      "source": [
        "lista_de_primos(8)"
      ],
      "metadata": {
        "colab": {
          "base_uri": "https://localhost:8080/"
        },
        "id": "OnpeqT990lO5",
        "outputId": "5af0f9f8-d6a7-466d-9aa8-8568c2689f0e"
      },
      "id": "OnpeqT990lO5",
      "execution_count": 48,
      "outputs": [
        {
          "output_type": "execute_result",
          "data": {
            "text/plain": [
              "[2, 3, 5, 7]"
            ]
          },
          "metadata": {},
          "execution_count": 48
        }
      ]
    },
    {
      "cell_type": "markdown",
      "source": [
        "### **Parte C**"
      ],
      "metadata": {
        "id": "appzw7w3zsnh"
      },
      "id": "appzw7w3zsnh"
    },
    {
      "cell_type": "code",
      "source": [
        "def goldbach(n):\n",
        "  ##Inputs:\n",
        "  ## n: un numero natural\n",
        "  ##Outputs:\n",
        "  ## retorna una tupla con los dos numeros naturales que satisfacen la conjetura de goldbach para n\n",
        "  lista=lista_de_primos(n)\n",
        "  for n1 in lista:\n",
        "    for n2 in lista:\n",
        "      if n1+n2==n:\n",
        "        return (n1,n2)"
      ],
      "metadata": {
        "id": "BwQvVynRzxzs"
      },
      "id": "BwQvVynRzxzs",
      "execution_count": 51,
      "outputs": []
    },
    {
      "cell_type": "code",
      "source": [
        "goldbach(4)"
      ],
      "metadata": {
        "colab": {
          "base_uri": "https://localhost:8080/"
        },
        "id": "mua49eQ81c1d",
        "outputId": "789012c7-9105-471a-9000-451766dcf319"
      },
      "id": "mua49eQ81c1d",
      "execution_count": 52,
      "outputs": [
        {
          "output_type": "execute_result",
          "data": {
            "text/plain": [
              "(2, 2)"
            ]
          },
          "metadata": {},
          "execution_count": 52
        }
      ]
    },
    {
      "cell_type": "code",
      "source": [
        "goldbach(6)"
      ],
      "metadata": {
        "colab": {
          "base_uri": "https://localhost:8080/"
        },
        "id": "hgAHdmqo1csT",
        "outputId": "35f259fd-e4e9-445c-94dd-fd912e347082"
      },
      "id": "hgAHdmqo1csT",
      "execution_count": 53,
      "outputs": [
        {
          "output_type": "execute_result",
          "data": {
            "text/plain": [
              "(3, 3)"
            ]
          },
          "metadata": {},
          "execution_count": 53
        }
      ]
    },
    {
      "cell_type": "code",
      "source": [
        "goldbach(8)"
      ],
      "metadata": {
        "colab": {
          "base_uri": "https://localhost:8080/"
        },
        "id": "-rERdu0Q1cjO",
        "outputId": "2c7ffaa6-1f73-4318-da8b-6490ae359163"
      },
      "id": "-rERdu0Q1cjO",
      "execution_count": 54,
      "outputs": [
        {
          "output_type": "execute_result",
          "data": {
            "text/plain": [
              "(3, 5)"
            ]
          },
          "metadata": {},
          "execution_count": 54
        }
      ]
    }
  ],
  "metadata": {
    "kernelspec": {
      "display_name": "Python 3 (ipykernel)",
      "language": "python",
      "name": "python3"
    },
    "language_info": {
      "codemirror_mode": {
        "name": "ipython",
        "version": 3
      },
      "file_extension": ".py",
      "mimetype": "text/x-python",
      "name": "python",
      "nbconvert_exporter": "python",
      "pygments_lexer": "ipython3",
      "version": "3.10.11"
    },
    "colab": {
      "provenance": [],
      "collapsed_sections": [
        "LuB3ePtZzo03",
        "1T7pIByEzrlG"
      ],
      "toc_visible": true
    }
  },
  "nbformat": 4,
  "nbformat_minor": 5
}